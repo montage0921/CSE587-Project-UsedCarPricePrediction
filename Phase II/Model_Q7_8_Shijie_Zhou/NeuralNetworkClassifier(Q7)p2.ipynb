{
 "cells": [
  {
   "cell_type": "code",
   "execution_count": 1,
   "id": "e490356d-1213-46b0-811c-c50285e7ef0b",
   "metadata": {},
   "outputs": [
    {
     "data": {
      "text/html": [
       "<div>\n",
       "<style scoped>\n",
       "    .dataframe tbody tr th:only-of-type {\n",
       "        vertical-align: middle;\n",
       "    }\n",
       "\n",
       "    .dataframe tbody tr th {\n",
       "        vertical-align: top;\n",
       "    }\n",
       "\n",
       "    .dataframe thead th {\n",
       "        text-align: right;\n",
       "    }\n",
       "</style>\n",
       "<table border=\"1\" class=\"dataframe\">\n",
       "  <thead>\n",
       "    <tr style=\"text-align: right;\">\n",
       "      <th></th>\n",
       "      <th>Unnamed: 0</th>\n",
       "      <th>year</th>\n",
       "      <th>make</th>\n",
       "      <th>model</th>\n",
       "      <th>price</th>\n",
       "      <th>mileage</th>\n",
       "      <th>Miles per gallon</th>\n",
       "      <th>Transmission</th>\n",
       "      <th>owner</th>\n",
       "      <th>VIN</th>\n",
       "      <th>...</th>\n",
       "      <th>cylinders</th>\n",
       "      <th>fuel</th>\n",
       "      <th>Drive type</th>\n",
       "      <th>Miles per gallon equivalent (MPGe)</th>\n",
       "      <th>Range (when new)</th>\n",
       "      <th>Time to fully charge battery (240V)</th>\n",
       "      <th>Motor</th>\n",
       "      <th>Bed Length</th>\n",
       "      <th>exterior_color</th>\n",
       "      <th>interior_color</th>\n",
       "    </tr>\n",
       "  </thead>\n",
       "  <tbody>\n",
       "    <tr>\n",
       "      <th>0</th>\n",
       "      <td>0</td>\n",
       "      <td>2015</td>\n",
       "      <td>Subaru</td>\n",
       "      <td>Outback Limited</td>\n",
       "      <td>16998</td>\n",
       "      <td>92000</td>\n",
       "      <td>25 city/32 hwy</td>\n",
       "      <td>Automatic</td>\n",
       "      <td>2.0</td>\n",
       "      <td>4S4BSANC4F3279791</td>\n",
       "      <td>...</td>\n",
       "      <td>NaN</td>\n",
       "      <td>NaN</td>\n",
       "      <td>NaN</td>\n",
       "      <td>NaN</td>\n",
       "      <td>NaN</td>\n",
       "      <td>NaN</td>\n",
       "      <td>non-electric</td>\n",
       "      <td>NaN</td>\n",
       "      <td>Silver</td>\n",
       "      <td>Black</td>\n",
       "    </tr>\n",
       "    <tr>\n",
       "      <th>1</th>\n",
       "      <td>1</td>\n",
       "      <td>2017</td>\n",
       "      <td>Subaru</td>\n",
       "      <td>Forester 2.5I</td>\n",
       "      <td>16998</td>\n",
       "      <td>79000</td>\n",
       "      <td>22 city/28 hwy</td>\n",
       "      <td>Manual 6 Speed</td>\n",
       "      <td>1.0</td>\n",
       "      <td>JF2SJAACXHG452398</td>\n",
       "      <td>...</td>\n",
       "      <td>4.0</td>\n",
       "      <td>Gas</td>\n",
       "      <td>All Wheel Drive</td>\n",
       "      <td>NaN</td>\n",
       "      <td>NaN</td>\n",
       "      <td>NaN</td>\n",
       "      <td>non-electric</td>\n",
       "      <td>NaN</td>\n",
       "      <td>Silver</td>\n",
       "      <td>Gray</td>\n",
       "    </tr>\n",
       "    <tr>\n",
       "      <th>2</th>\n",
       "      <td>2</td>\n",
       "      <td>2020</td>\n",
       "      <td>Subaru</td>\n",
       "      <td>Impreza</td>\n",
       "      <td>18998</td>\n",
       "      <td>43000</td>\n",
       "      <td>28 city/36 hwy</td>\n",
       "      <td>Automatic</td>\n",
       "      <td>1.0</td>\n",
       "      <td>4S3GKAB64L3608865</td>\n",
       "      <td>...</td>\n",
       "      <td>4.0</td>\n",
       "      <td>Gas</td>\n",
       "      <td>All Wheel Drive</td>\n",
       "      <td>NaN</td>\n",
       "      <td>NaN</td>\n",
       "      <td>NaN</td>\n",
       "      <td>non-electric</td>\n",
       "      <td>NaN</td>\n",
       "      <td>Blue</td>\n",
       "      <td>Black</td>\n",
       "    </tr>\n",
       "    <tr>\n",
       "      <th>3</th>\n",
       "      <td>3</td>\n",
       "      <td>2016</td>\n",
       "      <td>Subaru</td>\n",
       "      <td>Legacy 2.5I</td>\n",
       "      <td>14998</td>\n",
       "      <td>91000</td>\n",
       "      <td>26 city/36 hwy</td>\n",
       "      <td>Automatic</td>\n",
       "      <td>3.0</td>\n",
       "      <td>4S3BNAA63G3004121</td>\n",
       "      <td>...</td>\n",
       "      <td>4.0</td>\n",
       "      <td>Gas</td>\n",
       "      <td>All Wheel Drive</td>\n",
       "      <td>NaN</td>\n",
       "      <td>NaN</td>\n",
       "      <td>NaN</td>\n",
       "      <td>non-electric</td>\n",
       "      <td>NaN</td>\n",
       "      <td>Gray</td>\n",
       "      <td>Black</td>\n",
       "    </tr>\n",
       "    <tr>\n",
       "      <th>4</th>\n",
       "      <td>4</td>\n",
       "      <td>2021</td>\n",
       "      <td>Subaru</td>\n",
       "      <td>Crosstrek Premium</td>\n",
       "      <td>24998</td>\n",
       "      <td>53000</td>\n",
       "      <td>28 city/33 hwy</td>\n",
       "      <td>Automatic</td>\n",
       "      <td>1.0</td>\n",
       "      <td>JF2GTAEC8MH670080</td>\n",
       "      <td>...</td>\n",
       "      <td>4.0</td>\n",
       "      <td>Gas</td>\n",
       "      <td>All Wheel Drive</td>\n",
       "      <td>NaN</td>\n",
       "      <td>NaN</td>\n",
       "      <td>NaN</td>\n",
       "      <td>non-electric</td>\n",
       "      <td>NaN</td>\n",
       "      <td>Black</td>\n",
       "      <td>Black</td>\n",
       "    </tr>\n",
       "  </tbody>\n",
       "</table>\n",
       "<p>5 rows × 26 columns</p>\n",
       "</div>"
      ],
      "text/plain": [
       "   Unnamed: 0  year    make              model  price  mileage  \\\n",
       "0           0  2015  Subaru    Outback Limited  16998    92000   \n",
       "1           1  2017  Subaru      Forester 2.5I  16998    79000   \n",
       "2           2  2020  Subaru           Impreza   18998    43000   \n",
       "3           3  2016  Subaru        Legacy 2.5I  14998    91000   \n",
       "4           4  2021  Subaru  Crosstrek Premium  24998    53000   \n",
       "\n",
       "  Miles per gallon    Transmission  owner                VIN  ... cylinders  \\\n",
       "0   25 city/32 hwy       Automatic    2.0  4S4BSANC4F3279791  ...       NaN   \n",
       "1   22 city/28 hwy  Manual 6 Speed    1.0  JF2SJAACXHG452398  ...       4.0   \n",
       "2   28 city/36 hwy       Automatic    1.0  4S3GKAB64L3608865  ...       4.0   \n",
       "3   26 city/36 hwy       Automatic    3.0  4S3BNAA63G3004121  ...       4.0   \n",
       "4   28 city/33 hwy       Automatic    1.0  JF2GTAEC8MH670080  ...       4.0   \n",
       "\n",
       "  fuel       Drive type Miles per gallon equivalent (MPGe) Range (when new)  \\\n",
       "0  NaN              NaN                                NaN              NaN   \n",
       "1  Gas  All Wheel Drive                                NaN              NaN   \n",
       "2  Gas  All Wheel Drive                                NaN              NaN   \n",
       "3  Gas  All Wheel Drive                                NaN              NaN   \n",
       "4  Gas  All Wheel Drive                                NaN              NaN   \n",
       "\n",
       "  Time to fully charge battery (240V)         Motor Bed Length exterior_color  \\\n",
       "0                                 NaN  non-electric        NaN         Silver   \n",
       "1                                 NaN  non-electric        NaN         Silver   \n",
       "2                                 NaN  non-electric        NaN           Blue   \n",
       "3                                 NaN  non-electric        NaN           Gray   \n",
       "4                                 NaN  non-electric        NaN          Black   \n",
       "\n",
       "  interior_color  \n",
       "0          Black  \n",
       "1           Gray  \n",
       "2          Black  \n",
       "3          Black  \n",
       "4          Black  \n",
       "\n",
       "[5 rows x 26 columns]"
      ]
     },
     "execution_count": 1,
     "metadata": {},
     "output_type": "execute_result"
    }
   ],
   "source": [
    "import pandas as pd\n",
    "from scipy import stats\n",
    "import matplotlib.pyplot as plt\n",
    "import numpy as np\n",
    "\n",
    "df=pd.read_csv(r\"/home/zsj/code/CSE587-Project-UsedCarPricePrediction1/carinfo_after_pre_clean.csv\")\n",
    "df.head()"
   ]
  },
  {
   "cell_type": "markdown",
   "id": "1d59e28b-35b7-4417-8224-91b7b6db55ba",
   "metadata": {},
   "source": [
    "**Data Cleaning for attributes: Accident / Damage, make, mileage, price**"
   ]
  },
  {
   "cell_type": "code",
   "execution_count": 2,
   "id": "653ada02",
   "metadata": {},
   "outputs": [
    {
     "data": {
      "text/plain": [
       "['Unnamed: 0',\n",
       " 'year',\n",
       " 'make',\n",
       " 'model',\n",
       " 'price',\n",
       " 'mileage',\n",
       " 'Miles per gallon',\n",
       " 'Transmission',\n",
       " 'owner',\n",
       " 'VIN',\n",
       " 'class',\n",
       " 'Auction Brand / Issues',\n",
       " 'Accident / Damage',\n",
       " 'Open Recall Check',\n",
       " 'Odometer Check',\n",
       " 'Certified Pre-Owned',\n",
       " 'cylinders',\n",
       " 'fuel',\n",
       " 'Drive type',\n",
       " 'Miles per gallon equivalent (MPGe)',\n",
       " 'Range (when new)',\n",
       " 'Time to fully charge battery (240V)',\n",
       " 'Motor',\n",
       " 'Bed Length',\n",
       " 'exterior_color',\n",
       " 'interior_color']"
      ]
     },
     "execution_count": 2,
     "metadata": {},
     "output_type": "execute_result"
    }
   ],
   "source": [
    "df.columns.tolist()"
   ]
  },
  {
   "cell_type": "code",
   "execution_count": 3,
   "id": "3e585648-d3d3-44fc-8417-5229bb12caaf",
   "metadata": {},
   "outputs": [],
   "source": [
    "df_dmg=df.dropna(subset=['mileage','year','make','model','Miles per gallon','cylinders','price','Accident / Damage']) # drop rows with NaN values in mileage, price or make\n",
    "df_dmg = df_dmg[df_dmg['price']!=0] # drop rows with price equals to 0"
   ]
  },
  {
   "cell_type": "code",
   "execution_count": 4,
   "id": "eae2604f",
   "metadata": {},
   "outputs": [],
   "source": [
    "average_price_by_make = df_dmg.groupby('make')['price'].mean()\n",
    "lowest_ten_makes = average_price_by_make.sort_values().head(10)\n",
    "highest_ten_makes = average_price_by_make.sort_values(ascending=False).head(10)\n"
   ]
  },
  {
   "cell_type": "code",
   "execution_count": 5,
   "id": "0bf738fb",
   "metadata": {},
   "outputs": [
    {
     "data": {
      "text/plain": [
       "make\n",
       "Mitsubishi    19779.527426\n",
       "Hyundai       19856.321429\n",
       "Buick         20688.287611\n",
       "Mini          21005.858537\n",
       "Chrysler      21215.335135\n",
       "Nissan        22038.563158\n",
       "Volkswagen    22606.914384\n",
       "Kia           22650.134731\n",
       "Mazda         22867.149847\n",
       "Subaru        23481.927966\n",
       "Name: price, dtype: float64"
      ]
     },
     "execution_count": 5,
     "metadata": {},
     "output_type": "execute_result"
    }
   ],
   "source": [
    "lowest_ten_makes"
   ]
  },
  {
   "cell_type": "code",
   "execution_count": 6,
   "id": "d715e806",
   "metadata": {},
   "outputs": [
    {
     "data": {
      "text/plain": [
       "make\n",
       "Porsche          44978.861244\n",
       "Land             38686.473520\n",
       "Ram              35863.051903\n",
       "Lexus            35798.000000\n",
       "BMW              33303.810398\n",
       "GMC              32998.000000\n",
       "Mercedes-Benz    32688.104167\n",
       "Cadillac         31899.122222\n",
       "Jaguar           31808.975610\n",
       "Volvo            30908.903846\n",
       "Name: price, dtype: float64"
      ]
     },
     "execution_count": 6,
     "metadata": {},
     "output_type": "execute_result"
    }
   ],
   "source": [
    "highest_ten_makes"
   ]
  },
  {
   "cell_type": "code",
   "execution_count": 7,
   "id": "4ceee503",
   "metadata": {},
   "outputs": [
    {
     "data": {
      "text/plain": [
       "make\n",
       "Jeep             454\n",
       "Toyota           445\n",
       "Chevrolet        422\n",
       "Ford             402\n",
       "Audi             398\n",
       "Mercedes-Benz    384\n",
       "Honda            382\n",
       "Nissan           380\n",
       "Hyundai          364\n",
       "Cadillac         360\n",
       "Kia              334\n",
       "Infiniti         329\n",
       "Mazda            327\n",
       "GMC              327\n",
       "BMW              327\n",
       "Land             321\n",
       "Volvo            312\n",
       "Volkswagen       292\n",
       "Ram              289\n",
       "Acura            272\n",
       "Mitsubishi       237\n",
       "Subaru           236\n",
       "Lincoln          233\n",
       "Buick            226\n",
       "Porsche          209\n",
       "Mini             205\n",
       "Chrysler         185\n",
       "Dodge            181\n",
       "Jaguar           164\n",
       "Lexus             15\n",
       "Name: count, dtype: int64"
      ]
     },
     "execution_count": 7,
     "metadata": {},
     "output_type": "execute_result"
    }
   ],
   "source": [
    "df_dmg['make'].value_counts()"
   ]
  },
  {
   "cell_type": "code",
   "execution_count": 8,
   "id": "434b3931",
   "metadata": {},
   "outputs": [],
   "source": [
    "Mercedes_Benz_data=df_dmg.loc[df_dmg['make'].isin(['Mercedes-Benz'])]\n",
    "Mercedes_Benz_data=pd.concat([Mercedes_Benz_data], axis=0)"
   ]
  },
  {
   "cell_type": "markdown",
   "id": "6ff3ced2",
   "metadata": {},
   "source": [
    "# Question 7 (Phase 2): How do the accidents or damage records of the used cars affect the resale price? (Shijie Zhou)"
   ]
  },
  {
   "cell_type": "markdown",
   "id": "33319926",
   "metadata": {},
   "source": [
    "In Phase 2, we show that the used cars' price and accidents has the strongest correlation by conduction classification on predicting whether the car has at least 1 accident. We build a neural network with hidden dimension 100 and conduct experiments on Mercedes Benz's car price data."
   ]
  },
  {
   "cell_type": "code",
   "execution_count": 9,
   "id": "3e9c99ed",
   "metadata": {},
   "outputs": [],
   "source": [
    "Mercedes_Benz_data=Mercedes_Benz_data[['mileage','year','model','Miles per gallon','cylinders','price','Accident / Damage']]\n",
    "Mercedes_Benz_data['Accident / Damage'] = np.where(Mercedes_Benz_data['Accident / Damage'] == 'No Issue', 0, 1)"
   ]
  },
  {
   "cell_type": "markdown",
   "id": "56136100",
   "metadata": {},
   "source": [
    "We convert 'Miles per gallon' string data into the average data between 'city' and 'hwy'."
   ]
  },
  {
   "cell_type": "code",
   "execution_count": 10,
   "id": "a187e748",
   "metadata": {},
   "outputs": [],
   "source": [
    "def calculate_average(mpg):\n",
    "    try:\n",
    "        city_mpg, highway_mpg = mpg.split(' city/')[0], mpg.split('/')[1].split(' hwy')[0]\n",
    "        return (int(city_mpg) + int(highway_mpg)) / 2\n",
    "    except (IndexError, ValueError):\n",
    "        return None  # 或者你可以选择一个默认值\n",
    "\n",
    "Mercedes_Benz_data['Average MPG'] = Mercedes_Benz_data['Miles per gallon'].apply(calculate_average)"
   ]
  },
  {
   "cell_type": "markdown",
   "id": "94751d83",
   "metadata": {},
   "source": [
    "We convert 'model' string data into the 'model_id' number value to model this attribute as different model of a car brand has different beginning price."
   ]
  },
  {
   "cell_type": "code",
   "execution_count": 11,
   "id": "a8188e44",
   "metadata": {},
   "outputs": [],
   "source": [
    "Mercedes_Benz_data['model_id'], _ =pd.factorize(Mercedes_Benz_data['model'])"
   ]
  },
  {
   "cell_type": "code",
   "execution_count": 12,
   "id": "69b76583",
   "metadata": {},
   "outputs": [
    {
     "data": {
      "text/html": [
       "<div>\n",
       "<style scoped>\n",
       "    .dataframe tbody tr th:only-of-type {\n",
       "        vertical-align: middle;\n",
       "    }\n",
       "\n",
       "    .dataframe tbody tr th {\n",
       "        vertical-align: top;\n",
       "    }\n",
       "\n",
       "    .dataframe thead th {\n",
       "        text-align: right;\n",
       "    }\n",
       "</style>\n",
       "<table border=\"1\" class=\"dataframe\">\n",
       "  <thead>\n",
       "    <tr style=\"text-align: right;\">\n",
       "      <th></th>\n",
       "      <th>mileage</th>\n",
       "      <th>year</th>\n",
       "      <th>model</th>\n",
       "      <th>Miles per gallon</th>\n",
       "      <th>cylinders</th>\n",
       "      <th>price</th>\n",
       "      <th>Accident / Damage</th>\n",
       "      <th>Average MPG</th>\n",
       "      <th>model_id</th>\n",
       "    </tr>\n",
       "  </thead>\n",
       "  <tbody>\n",
       "    <tr>\n",
       "      <th>558</th>\n",
       "      <td>61000</td>\n",
       "      <td>2021</td>\n",
       "      <td>GLC300</td>\n",
       "      <td>21 city/28 hwy</td>\n",
       "      <td>4.0</td>\n",
       "      <td>26998</td>\n",
       "      <td>1</td>\n",
       "      <td>24.5</td>\n",
       "      <td>0</td>\n",
       "    </tr>\n",
       "    <tr>\n",
       "      <th>559</th>\n",
       "      <td>37000</td>\n",
       "      <td>2021</td>\n",
       "      <td>GLC300</td>\n",
       "      <td>21 city/28 hwy</td>\n",
       "      <td>4.0</td>\n",
       "      <td>33998</td>\n",
       "      <td>0</td>\n",
       "      <td>24.5</td>\n",
       "      <td>0</td>\n",
       "    </tr>\n",
       "    <tr>\n",
       "      <th>560</th>\n",
       "      <td>29000</td>\n",
       "      <td>2021</td>\n",
       "      <td>GLC300</td>\n",
       "      <td>22 city/29 hwy</td>\n",
       "      <td>4.0</td>\n",
       "      <td>34998</td>\n",
       "      <td>0</td>\n",
       "      <td>25.5</td>\n",
       "      <td>0</td>\n",
       "    </tr>\n",
       "    <tr>\n",
       "      <th>561</th>\n",
       "      <td>22000</td>\n",
       "      <td>2022</td>\n",
       "      <td>GLC300</td>\n",
       "      <td>21 city/28 hwy</td>\n",
       "      <td>4.0</td>\n",
       "      <td>38998</td>\n",
       "      <td>0</td>\n",
       "      <td>24.5</td>\n",
       "      <td>0</td>\n",
       "    </tr>\n",
       "    <tr>\n",
       "      <th>562</th>\n",
       "      <td>44000</td>\n",
       "      <td>2018</td>\n",
       "      <td>GLC300</td>\n",
       "      <td>22 city/28 hwy</td>\n",
       "      <td>4.0</td>\n",
       "      <td>23998</td>\n",
       "      <td>0</td>\n",
       "      <td>25.0</td>\n",
       "      <td>0</td>\n",
       "    </tr>\n",
       "    <tr>\n",
       "      <th>...</th>\n",
       "      <td>...</td>\n",
       "      <td>...</td>\n",
       "      <td>...</td>\n",
       "      <td>...</td>\n",
       "      <td>...</td>\n",
       "      <td>...</td>\n",
       "      <td>...</td>\n",
       "      <td>...</td>\n",
       "      <td>...</td>\n",
       "    </tr>\n",
       "    <tr>\n",
       "      <th>9939</th>\n",
       "      <td>28000</td>\n",
       "      <td>2020</td>\n",
       "      <td>GLC300</td>\n",
       "      <td>21 city/28 hwy</td>\n",
       "      <td>4.0</td>\n",
       "      <td>30998</td>\n",
       "      <td>0</td>\n",
       "      <td>24.5</td>\n",
       "      <td>0</td>\n",
       "    </tr>\n",
       "    <tr>\n",
       "      <th>10001</th>\n",
       "      <td>52000</td>\n",
       "      <td>2015</td>\n",
       "      <td>C300</td>\n",
       "      <td>25 city/34 hwy</td>\n",
       "      <td>4.0</td>\n",
       "      <td>17998</td>\n",
       "      <td>1</td>\n",
       "      <td>29.5</td>\n",
       "      <td>3</td>\n",
       "    </tr>\n",
       "    <tr>\n",
       "      <th>10007</th>\n",
       "      <td>54000</td>\n",
       "      <td>2018</td>\n",
       "      <td>C63 AMG</td>\n",
       "      <td>17 city/23 hwy</td>\n",
       "      <td>8.0</td>\n",
       "      <td>43998</td>\n",
       "      <td>0</td>\n",
       "      <td>20.0</td>\n",
       "      <td>2</td>\n",
       "    </tr>\n",
       "    <tr>\n",
       "      <th>10023</th>\n",
       "      <td>58000</td>\n",
       "      <td>2018</td>\n",
       "      <td>GLC300</td>\n",
       "      <td>21 city/28 hwy</td>\n",
       "      <td>4.0</td>\n",
       "      <td>23998</td>\n",
       "      <td>0</td>\n",
       "      <td>24.5</td>\n",
       "      <td>0</td>\n",
       "    </tr>\n",
       "    <tr>\n",
       "      <th>10028</th>\n",
       "      <td>88000</td>\n",
       "      <td>2016</td>\n",
       "      <td>GLA250</td>\n",
       "      <td>24 city/32 hwy</td>\n",
       "      <td>4.0</td>\n",
       "      <td>18998</td>\n",
       "      <td>0</td>\n",
       "      <td>28.0</td>\n",
       "      <td>4</td>\n",
       "    </tr>\n",
       "  </tbody>\n",
       "</table>\n",
       "<p>384 rows × 9 columns</p>\n",
       "</div>"
      ],
      "text/plain": [
       "       mileage  year     model Miles per gallon  cylinders  price  \\\n",
       "558      61000  2021   GLC300    21 city/28 hwy        4.0  26998   \n",
       "559      37000  2021   GLC300    21 city/28 hwy        4.0  33998   \n",
       "560      29000  2021   GLC300    22 city/29 hwy        4.0  34998   \n",
       "561      22000  2022   GLC300    21 city/28 hwy        4.0  38998   \n",
       "562      44000  2018   GLC300    22 city/28 hwy        4.0  23998   \n",
       "...        ...   ...       ...              ...        ...    ...   \n",
       "9939     28000  2020   GLC300    21 city/28 hwy        4.0  30998   \n",
       "10001    52000  2015     C300    25 city/34 hwy        4.0  17998   \n",
       "10007    54000  2018  C63 AMG    17 city/23 hwy        8.0  43998   \n",
       "10023    58000  2018   GLC300    21 city/28 hwy        4.0  23998   \n",
       "10028    88000  2016   GLA250    24 city/32 hwy        4.0  18998   \n",
       "\n",
       "       Accident / Damage  Average MPG  model_id  \n",
       "558                    1         24.5         0  \n",
       "559                    0         24.5         0  \n",
       "560                    0         25.5         0  \n",
       "561                    0         24.5         0  \n",
       "562                    0         25.0         0  \n",
       "...                  ...          ...       ...  \n",
       "9939                   0         24.5         0  \n",
       "10001                  1         29.5         3  \n",
       "10007                  0         20.0         2  \n",
       "10023                  0         24.5         0  \n",
       "10028                  0         28.0         4  \n",
       "\n",
       "[384 rows x 9 columns]"
      ]
     },
     "execution_count": 12,
     "metadata": {},
     "output_type": "execute_result"
    }
   ],
   "source": [
    "Mercedes_Benz_data.dropna()"
   ]
  },
  {
   "cell_type": "markdown",
   "id": "22079c20",
   "metadata": {},
   "source": [
    "(1)  Base experiment with all attribute 'mileage', 'year', 'cylinders', 'price',\t'Average MPG' and 'model_id' as the input attribute and make the prediction on accident classification (no accident: 0, at least 1 accident: 1)"
   ]
  },
  {
   "cell_type": "code",
   "execution_count": 13,
   "id": "0ef6d0db",
   "metadata": {},
   "outputs": [
    {
     "name": "stdout",
     "output_type": "stream",
     "text": [
      "MLP Accuracy: 0.7692307692307693\n",
      "MLP Classification Report:\n",
      "               precision    recall  f1-score   support\n",
      "\n",
      "           0       0.74      0.96      0.84        24\n",
      "           1       0.88      0.47      0.61        15\n",
      "\n",
      "    accuracy                           0.77        39\n",
      "   macro avg       0.81      0.71      0.72        39\n",
      "weighted avg       0.79      0.77      0.75        39\n",
      "\n"
     ]
    }
   ],
   "source": [
    "from sklearn.neural_network import MLPClassifier\n",
    "from sklearn.model_selection import train_test_split\n",
    "from sklearn.metrics import accuracy_score, classification_report\n",
    "X = Mercedes_Benz_data.drop(['Accident / Damage','model','Miles per gallon'], axis=1)\n",
    "X = X\n",
    "y = Mercedes_Benz_data['Accident / Damage']\n",
    "X_train, X_test, y_train, y_test = train_test_split(X, y, test_size=0.1)\n",
    "X_train = X_train.dropna()\n",
    "y_train = y_train[X_train.index]\n",
    "X_test = X_test.dropna()\n",
    "y_test = y_test[X_test.index]\n",
    "\n",
    "mlp_model = MLPClassifier(hidden_layer_sizes=(100,), max_iter=600, activation='logistic', solver='adam', random_state=42)\n",
    "mlp_model.fit(X_train, y_train)\n",
    "\n",
    "mlp_predictions = mlp_model.predict(X_test)\n",
    "mlp_accuracy = accuracy_score(y_test, mlp_predictions)\n",
    "mlp_report = classification_report(y_test, mlp_predictions)\n",
    "print(\"MLP Accuracy:\", mlp_accuracy)\n",
    "print(\"MLP Classification Report:\\n\", mlp_report)"
   ]
  },
  {
   "cell_type": "markdown",
   "id": "696f9622",
   "metadata": {},
   "source": [
    "(2) Ablation experiment without 'price' attribute feeded in."
   ]
  },
  {
   "cell_type": "code",
   "execution_count": 14,
   "id": "0308b9d3",
   "metadata": {},
   "outputs": [
    {
     "name": "stdout",
     "output_type": "stream",
     "text": [
      "MLP Accuracy: 0.6153846153846154\n",
      "MLP Classification Report:\n",
      "               precision    recall  f1-score   support\n",
      "\n",
      "           0       0.62      1.00      0.76        24\n",
      "           1       0.00      0.00      0.00        15\n",
      "\n",
      "    accuracy                           0.62        39\n",
      "   macro avg       0.31      0.50      0.38        39\n",
      "weighted avg       0.38      0.62      0.47        39\n",
      "\n"
     ]
    },
    {
     "name": "stderr",
     "output_type": "stream",
     "text": [
      "/home/zsj/anaconda3/envs/DPS/lib/python3.8/site-packages/sklearn/metrics/_classification.py:1471: UndefinedMetricWarning: Precision and F-score are ill-defined and being set to 0.0 in labels with no predicted samples. Use `zero_division` parameter to control this behavior.\n",
      "  _warn_prf(average, modifier, msg_start, len(result))\n",
      "/home/zsj/anaconda3/envs/DPS/lib/python3.8/site-packages/sklearn/metrics/_classification.py:1471: UndefinedMetricWarning: Precision and F-score are ill-defined and being set to 0.0 in labels with no predicted samples. Use `zero_division` parameter to control this behavior.\n",
      "  _warn_prf(average, modifier, msg_start, len(result))\n",
      "/home/zsj/anaconda3/envs/DPS/lib/python3.8/site-packages/sklearn/metrics/_classification.py:1471: UndefinedMetricWarning: Precision and F-score are ill-defined and being set to 0.0 in labels with no predicted samples. Use `zero_division` parameter to control this behavior.\n",
      "  _warn_prf(average, modifier, msg_start, len(result))\n"
     ]
    }
   ],
   "source": [
    "from sklearn.neural_network import MLPClassifier\n",
    "X = Mercedes_Benz_data.drop(['Accident / Damage','model','Miles per gallon'], axis=1)\n",
    "X = X.drop(['price'], axis=1)\n",
    "y = Mercedes_Benz_data['Accident / Damage']\n",
    "X_train, X_test, y_train, y_test = train_test_split(X, y, test_size=0.1)\n",
    "X_train = X_train.dropna()\n",
    "y_train = y_train[X_train.index]\n",
    "X_test = X_test.dropna()\n",
    "y_test = y_test[X_test.index]\n",
    "\n",
    "mlp_model = MLPClassifier(hidden_layer_sizes=(100,), max_iter=600, activation='logistic', solver='adam', random_state=42)\n",
    "mlp_model.fit(X_train, y_train)\n",
    "\n",
    "mlp_predictions = mlp_model.predict(X_test)\n",
    "mlp_accuracy = accuracy_score(y_test, mlp_predictions)\n",
    "mlp_report = classification_report(y_test, mlp_predictions)\n",
    "print(\"MLP Accuracy:\", mlp_accuracy)\n",
    "print(\"MLP Classification Report:\\n\", mlp_report)"
   ]
  },
  {
   "cell_type": "markdown",
   "id": "3eec2022",
   "metadata": {},
   "source": [
    "(3) Ablation experiment without 'mileage' attribute feeded in."
   ]
  },
  {
   "cell_type": "code",
   "execution_count": 20,
   "id": "999c9dbd",
   "metadata": {},
   "outputs": [
    {
     "name": "stdout",
     "output_type": "stream",
     "text": [
      "MLP Accuracy: 0.6666666666666666\n",
      "MLP Classification Report:\n",
      "               precision    recall  f1-score   support\n",
      "\n",
      "           0       0.67      1.00      0.80        26\n",
      "           1       0.00      0.00      0.00        13\n",
      "\n",
      "    accuracy                           0.67        39\n",
      "   macro avg       0.33      0.50      0.40        39\n",
      "weighted avg       0.44      0.67      0.53        39\n",
      "\n"
     ]
    },
    {
     "name": "stderr",
     "output_type": "stream",
     "text": [
      "/home/zsj/anaconda3/envs/DPS/lib/python3.8/site-packages/sklearn/metrics/_classification.py:1471: UndefinedMetricWarning: Precision and F-score are ill-defined and being set to 0.0 in labels with no predicted samples. Use `zero_division` parameter to control this behavior.\n",
      "  _warn_prf(average, modifier, msg_start, len(result))\n",
      "/home/zsj/anaconda3/envs/DPS/lib/python3.8/site-packages/sklearn/metrics/_classification.py:1471: UndefinedMetricWarning: Precision and F-score are ill-defined and being set to 0.0 in labels with no predicted samples. Use `zero_division` parameter to control this behavior.\n",
      "  _warn_prf(average, modifier, msg_start, len(result))\n",
      "/home/zsj/anaconda3/envs/DPS/lib/python3.8/site-packages/sklearn/metrics/_classification.py:1471: UndefinedMetricWarning: Precision and F-score are ill-defined and being set to 0.0 in labels with no predicted samples. Use `zero_division` parameter to control this behavior.\n",
      "  _warn_prf(average, modifier, msg_start, len(result))\n"
     ]
    }
   ],
   "source": [
    "from sklearn.neural_network import MLPClassifier\n",
    "X = Mercedes_Benz_data.drop(['Accident / Damage','model','Miles per gallon'], axis=1)\n",
    "X = X.drop(['mileage'], axis=1)\n",
    "y = Mercedes_Benz_data['Accident / Damage']\n",
    "X_train, X_test, y_train, y_test = train_test_split(X, y, test_size=0.1)\n",
    "X_train = X_train.dropna()\n",
    "y_train = y_train[X_train.index]\n",
    "X_test = X_test.dropna()\n",
    "y_test = y_test[X_test.index]\n",
    "\n",
    "mlp_model = MLPClassifier(hidden_layer_sizes=(100,), max_iter=600, activation='logistic', solver='adam', random_state=42)\n",
    "mlp_model.fit(X_train, y_train)\n",
    "\n",
    "mlp_predictions = mlp_model.predict(X_test)\n",
    "mlp_accuracy = accuracy_score(y_test, mlp_predictions)\n",
    "mlp_report = classification_report(y_test, mlp_predictions)\n",
    "print(\"MLP Accuracy:\", mlp_accuracy)\n",
    "print(\"MLP Classification Report:\\n\", mlp_report)"
   ]
  },
  {
   "cell_type": "markdown",
   "id": "a45ca49c",
   "metadata": {},
   "source": [
    "(4) Ablation experiment without 'year' attribute feeded in."
   ]
  },
  {
   "cell_type": "code",
   "execution_count": 16,
   "id": "926573fb",
   "metadata": {},
   "outputs": [
    {
     "name": "stdout",
     "output_type": "stream",
     "text": [
      "MLP Accuracy: 0.7692307692307693\n",
      "MLP Classification Report:\n",
      "               precision    recall  f1-score   support\n",
      "\n",
      "           0       0.74      0.96      0.84        24\n",
      "           1       0.88      0.47      0.61        15\n",
      "\n",
      "    accuracy                           0.77        39\n",
      "   macro avg       0.81      0.71      0.72        39\n",
      "weighted avg       0.79      0.77      0.75        39\n",
      "\n"
     ]
    }
   ],
   "source": [
    "from sklearn.neural_network import MLPClassifier\n",
    "X = Mercedes_Benz_data.drop(['Accident / Damage','model','Miles per gallon'], axis=1)\n",
    "X = X.drop(['year'], axis=1)\n",
    "y = Mercedes_Benz_data['Accident / Damage']\n",
    "X_train, X_test, y_train, y_test = train_test_split(X, y, test_size=0.1)\n",
    "X_train = X_train.dropna()\n",
    "y_train = y_train[X_train.index]\n",
    "X_test = X_test.dropna()\n",
    "y_test = y_test[X_test.index]\n",
    "\n",
    "mlp_model = MLPClassifier(hidden_layer_sizes=(100,), max_iter=600, activation='logistic', solver='adam', random_state=42)\n",
    "mlp_model.fit(X_train, y_train)\n",
    "\n",
    "mlp_predictions = mlp_model.predict(X_test)\n",
    "mlp_accuracy = accuracy_score(y_test, mlp_predictions)\n",
    "mlp_report = classification_report(y_test, mlp_predictions)\n",
    "print(\"MLP Accuracy:\", mlp_accuracy)\n",
    "print(\"MLP Classification Report:\\n\", mlp_report)"
   ]
  },
  {
   "cell_type": "markdown",
   "id": "5c932089",
   "metadata": {},
   "source": [
    "(5) Ablation experiment without 'cylinders' attribute feeded in."
   ]
  },
  {
   "cell_type": "code",
   "execution_count": 17,
   "id": "e8e6d108",
   "metadata": {},
   "outputs": [
    {
     "name": "stdout",
     "output_type": "stream",
     "text": [
      "MLP Accuracy: 0.6923076923076923\n",
      "MLP Classification Report:\n",
      "               precision    recall  f1-score   support\n",
      "\n",
      "           0       0.68      0.96      0.79        24\n",
      "           1       0.80      0.27      0.40        15\n",
      "\n",
      "    accuracy                           0.69        39\n",
      "   macro avg       0.74      0.61      0.60        39\n",
      "weighted avg       0.72      0.69      0.64        39\n",
      "\n"
     ]
    }
   ],
   "source": [
    "from sklearn.neural_network import MLPClassifier\n",
    "X = Mercedes_Benz_data.drop(['Accident / Damage','model','Miles per gallon'], axis=1)\n",
    "X = X.drop(['cylinders'], axis=1)\n",
    "y = Mercedes_Benz_data['Accident / Damage']\n",
    "X_train, X_test, y_train, y_test = train_test_split(X, y, test_size=0.1)\n",
    "X_train = X_train.dropna()\n",
    "y_train = y_train[X_train.index]\n",
    "X_test = X_test.dropna()\n",
    "y_test = y_test[X_test.index]\n",
    "\n",
    "mlp_model = MLPClassifier(hidden_layer_sizes=(100,), max_iter=600, activation='logistic', solver='adam', random_state=42)\n",
    "mlp_model.fit(X_train, y_train)\n",
    "\n",
    "mlp_predictions = mlp_model.predict(X_test)\n",
    "mlp_accuracy = accuracy_score(y_test, mlp_predictions)\n",
    "mlp_report = classification_report(y_test, mlp_predictions)\n",
    "print(\"MLP Accuracy:\", mlp_accuracy)\n",
    "print(\"MLP Classification Report:\\n\", mlp_report)"
   ]
  },
  {
   "cell_type": "markdown",
   "id": "e9531a7b",
   "metadata": {},
   "source": [
    "(6) Ablation experiment without 'Average MPG' attribute feeded in."
   ]
  },
  {
   "cell_type": "code",
   "execution_count": 18,
   "id": "182bad20",
   "metadata": {},
   "outputs": [
    {
     "name": "stdout",
     "output_type": "stream",
     "text": [
      "MLP Accuracy: 0.7692307692307693\n",
      "MLP Classification Report:\n",
      "               precision    recall  f1-score   support\n",
      "\n",
      "           0       0.74      0.96      0.84        24\n",
      "           1       0.88      0.47      0.61        15\n",
      "\n",
      "    accuracy                           0.77        39\n",
      "   macro avg       0.81      0.71      0.72        39\n",
      "weighted avg       0.79      0.77      0.75        39\n",
      "\n"
     ]
    }
   ],
   "source": [
    "from sklearn.neural_network import MLPClassifier\n",
    "X = Mercedes_Benz_data.drop(['Accident / Damage','model','Miles per gallon'], axis=1)\n",
    "X = X.drop(['Average MPG'], axis=1)\n",
    "y = Mercedes_Benz_data['Accident / Damage']\n",
    "X_train, X_test, y_train, y_test = train_test_split(X, y, test_size=0.1)\n",
    "X_train = X_train.dropna()\n",
    "y_train = y_train[X_train.index]\n",
    "X_test = X_test.dropna()\n",
    "y_test = y_test[X_test.index]\n",
    "\n",
    "mlp_model = MLPClassifier(hidden_layer_sizes=(100,), max_iter=600, activation='logistic', solver='adam', random_state=42)\n",
    "mlp_model.fit(X_train, y_train)\n",
    "\n",
    "mlp_predictions = mlp_model.predict(X_test)\n",
    "mlp_accuracy = accuracy_score(y_test, mlp_predictions)\n",
    "mlp_report = classification_report(y_test, mlp_predictions)\n",
    "print(\"MLP Accuracy:\", mlp_accuracy)\n",
    "print(\"MLP Classification Report:\\n\", mlp_report)"
   ]
  },
  {
   "cell_type": "markdown",
   "id": "0740637c",
   "metadata": {},
   "source": [
    "(7) Ablation experiment without 'model_id' attribute feeded in."
   ]
  },
  {
   "cell_type": "code",
   "execution_count": 19,
   "id": "221c4931",
   "metadata": {},
   "outputs": [
    {
     "name": "stdout",
     "output_type": "stream",
     "text": [
      "MLP Accuracy: 0.7435897435897436\n",
      "MLP Classification Report:\n",
      "               precision    recall  f1-score   support\n",
      "\n",
      "           0       0.72      0.96      0.82        24\n",
      "           1       0.86      0.40      0.55        15\n",
      "\n",
      "    accuracy                           0.74        39\n",
      "   macro avg       0.79      0.68      0.68        39\n",
      "weighted avg       0.77      0.74      0.72        39\n",
      "\n"
     ]
    }
   ],
   "source": [
    "from sklearn.neural_network import MLPClassifier\n",
    "X = Mercedes_Benz_data.drop(['Accident / Damage','model','Miles per gallon'], axis=1)\n",
    "X = X.drop(['model_id'], axis=1)\n",
    "y = Mercedes_Benz_data['Accident / Damage']\n",
    "X_train, X_test, y_train, y_test = train_test_split(X, y, test_size=0.1)\n",
    "X_train = X_train.dropna()\n",
    "y_train = y_train[X_train.index]\n",
    "X_test = X_test.dropna()\n",
    "y_test = y_test[X_test.index]\n",
    "\n",
    "mlp_model = MLPClassifier(hidden_layer_sizes=(100,), max_iter=600, activation='logistic', solver='adam', random_state=42)\n",
    "mlp_model.fit(X_train, y_train)\n",
    "\n",
    "mlp_predictions = mlp_model.predict(X_test)\n",
    "mlp_accuracy = accuracy_score(y_test, mlp_predictions)\n",
    "mlp_report = classification_report(y_test, mlp_predictions)\n",
    "print(\"MLP Accuracy:\", mlp_accuracy)\n",
    "print(\"MLP Classification Report:\\n\", mlp_report)"
   ]
  },
  {
   "cell_type": "code",
   "execution_count": 41,
   "id": "3b19ab8b",
   "metadata": {},
   "outputs": [
    {
     "data": {
      "image/png": "[encoded data removed]",
      "text/plain": [
       "<Figure size 1000x600 with 1 Axes>"
      ]
     },
     "metadata": {},
     "output_type": "display_data"
    }
   ],
   "source": [
    "import matplotlib.pyplot as plt\n",
    "base_acc = 0.7692307692307693*100\n",
    "without_price_acc = 0.6153846153846154*100\n",
    "without_mileage_acc = 0.6666666666666666*100\n",
    "without_year_acc = 0.7692307692307693*100\n",
    "without_cylinders_acc = 0.6923076923076923*100\n",
    "without_mpg_acc= 0.7692307692307693*100\n",
    "without_model_id_acc = 0.7435897435897436*100\n",
    "labels = ['Base', 'Without Price', 'Without Mileage', 'Without Year', 'Without Cylinders', 'Without MPG', 'Without Model ID']\n",
    "accuracies = [base_acc, without_price_acc, without_mileage_acc, without_year_acc, without_cylinders_acc, without_mpg_acc, without_model_id_acc]\n",
    "plt.figure(figsize=(10, 6))\n",
    "bars = plt.bar(labels, accuracies, color='skyblue')\n",
    "bars[0].set_color('blue')  \n",
    "bars[1].set_color('red')   \n",
    "plt.xlabel('Model Variants')\n",
    "plt.ylabel('Accuracy (%)')\n",
    "plt.title('Accident Prediction Accuracy with Different Features Omitted')\n",
    "plt.xticks(rotation=45)\n",
    "plt.grid(axis='y', linestyle='--', alpha=0.7)\n",
    "plt.show()\n"
   ]
  },
  {
   "cell_type": "markdown",
   "id": "eb0b6db1",
   "metadata": {},
   "source": [
    "We can observe that the missing of ‘price’ feature decreases the accuracy the most and thus used cars' selling price and accident have the higher bounded relationship than other features."
   ]
  }
 ],
 "metadata": {
  "kernelspec": {
   "display_name": "Python 3 (ipykernel)",
   "language": "python",
   "name": "python3"
  },
  "language_info": {
   "codemirror_mode": {
    "name": "ipython",
    "version": 3
   },
   "file_extension": ".py",
   "mimetype": "text/x-python",
   "name": "python",
   "nbconvert_exporter": "python",
   "pygments_lexer": "ipython3",
   "version": "3.8.18"
  }
 },
 "nbformat": 4,
 "nbformat_minor": 5
}
