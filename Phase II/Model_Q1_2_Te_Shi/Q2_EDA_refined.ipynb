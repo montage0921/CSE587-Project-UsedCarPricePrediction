{
 "cells": [
  {
   "cell_type": "code",
   "execution_count": 5,
   "id": "3c1dbf92-de3a-44a5-a686-bbe7b5ed5232",
   "metadata": {},
   "outputs": [],
   "source": [
    "import pandas as pd\n",
    "import numpy as np\n",
    "import matplotlib.pyplot as plt\n",
    "import seaborn as sns\n",
    "from sklearn.preprocessing import LabelEncoder"
   ]
  },
  {
   "cell_type": "code",
   "execution_count": 9,
   "id": "db26f445-1d00-46f2-82c7-6ea318716456",
   "metadata": {},
   "outputs": [
    {
     "data": {
      "text/plain": [
       "0              CUV - Midsize\n",
       "1              Car - Midsize\n",
       "2              Car - Midsize\n",
       "3              CUV - Compact\n",
       "4              CUV - Compact\n",
       "                ...         \n",
       "8606    CUV - Midsize Luxury\n",
       "8607    CUV - Midsize Luxury\n",
       "8608    CUV - Midsize Luxury\n",
       "8609    CUV - Midsize Luxury\n",
       "8610    Car - Compact Luxury\n",
       "Name: class, Length: 8611, dtype: object"
      ]
     },
     "execution_count": 9,
     "metadata": {},
     "output_type": "execute_result"
    }
   ],
   "source": [
    "data=pd.read_csv(r\"C:\\Users\\19692\\Downloads\\processed_data_mileage.csv\")\n",
    "data.head()\n",
    "data['class']"
   ]
  },
  {
   "cell_type": "markdown",
   "id": "76fcd72e-dd87-4106-8854-026d7efbd9b4",
   "metadata": {},
   "source": [
    "## Question 2: Do different car classes exhibit significant and distinct characteristics across features"
   ]
  },
  {
   "cell_type": "markdown",
   "id": "abc754a7-a9e9-41e6-9483-6ce9cbb13c28",
   "metadata": {},
   "source": [
    "Original Question 2 focused on exploring the relationship between different car classes and their resale value. In Phase II,  I feel it is necessary to investigate additional significant characteristics present in different car classes. Phase I's EDA revealed that the average resale price varies among car classes. By gaining a deeper understanding of other characteristics associated with each car class, we can achieve more insightful analysis and better identify car classes. This understanding could be crucial for the final price prediction model, as car class is correlated with price."
   ]
  },
  {
   "cell_type": "markdown",
   "id": "c0827d03-8f6f-4082-b3e1-87c09ab5e02d",
   "metadata": {},
   "source": [
    "### Hypothesis 1: General Resale Price is different across different car class  \n",
    "This part is same as EDA for original question 2"
   ]
  },
  {
   "cell_type": "markdown",
   "id": "b18e9805-84cc-4f3a-adbf-e73909a15632",
   "metadata": {},
   "source": [
    "### Hypothesis 2: Other features like mileage and fuel efficiency could be significant different across different classes"
   ]
  },
  {
   "cell_type": "code",
   "execution_count": 71,
   "id": "fab9419e-f43c-4d04-9ad1-da4b824e79c8",
   "metadata": {},
   "outputs": [],
   "source": [
    "data[['car_class','type']]=data['class'].str.split('-',expand=True)"
   ]
  },
  {
   "cell_type": "code",
   "execution_count": 11,
   "id": "4375dd69-6b25-4d45-b3af-3c7b00796b55",
   "metadata": {},
   "outputs": [
    {
     "data": {
      "text/plain": [
       "<pandas.core.groupby.generic.DataFrameGroupBy object at 0x00000175F4CD9590>"
      ]
     },
     "execution_count": 11,
     "metadata": {},
     "output_type": "execute_result"
    }
   ],
   "source": [
    "data_by_class=data.groupby('car_class')"
   ]
  },
  {
   "cell_type": "code",
   "execution_count": 73,
   "id": "b05108d3-348b-4794-9978-e39cf2cc8c11",
   "metadata": {},
   "outputs": [
    {
     "name": "stdout",
     "output_type": "stream",
     "text": [
      "              year    price  mileage  city_mpg  hwy_mpg  cylinders  owner  \\\n",
      "car_class                                                                   \n",
      "CUV         2020.0  24998.0  39000.0      22.0     28.0        4.0    1.0   \n",
      "Car         2019.0  19998.0  46000.0      26.0     35.0        4.0    2.0   \n",
      "Pickup      2020.0  33998.0  42000.0      17.0     22.0        8.0    1.0   \n",
      "SUV         2020.0  36998.0  40000.0      18.0     23.5        6.0    1.0   \n",
      "Sport Car   2019.0  37998.0  31000.0      18.0     27.0        6.0    2.0   \n",
      "Van         2018.0  22998.0  62000.0      19.0     28.0        6.0    2.0   \n",
      "\n",
      "            Open Recall Check  \n",
      "car_class                      \n",
      "CUV                       0.0  \n",
      "Car                       0.0  \n",
      "Pickup                    0.0  \n",
      "SUV                       0.0  \n",
      "Sport Car                 0.0  \n",
      "Van                       0.0  \n"
     ]
    }
   ],
   "source": [
    "# for quantitative value, their mean, median and std are calculated\n",
    "mean_stats = data_by_class[['year','price', 'mileage','city_mpg','hwy_mpg','cylinders','owner','Open Recall Check']].mean()\n",
    "median_stats = data_by_class[['year','price', 'mileage','city_mpg','hwy_mpg','cylinders','owner','Open Recall Check']].median()\n",
    "std_stats = data_by_class[['year','price', 'mileage','city_mpg','hwy_mpg','cylinders','owner','Open Recall Check']].std()\n",
    "\n",
    "# print(mean_stats)\n",
    "print(median_stats)\n",
    "# print(std_stats)"
   ]
  },
  {
   "cell_type": "code",
   "execution_count": 70,
   "id": "c2b553b4-5a02-484c-b47d-c0456a771436",
   "metadata": {},
   "outputs": [
    {
     "data": {
      "text/html": [
       "<div>\n",
       "<style scoped>\n",
       "    .dataframe tbody tr th:only-of-type {\n",
       "        vertical-align: middle;\n",
       "    }\n",
       "\n",
       "    .dataframe tbody tr th {\n",
       "        vertical-align: top;\n",
       "    }\n",
       "\n",
       "    .dataframe thead th {\n",
       "        text-align: right;\n",
       "    }\n",
       "</style>\n",
       "<table border=\"1\" class=\"dataframe\">\n",
       "  <thead>\n",
       "    <tr style=\"text-align: right;\">\n",
       "      <th>interior_color</th>\n",
       "      <th>Black</th>\n",
       "      <th>Blue</th>\n",
       "      <th>Brown</th>\n",
       "      <th>Burgundy</th>\n",
       "      <th>Champagne</th>\n",
       "      <th>Cream</th>\n",
       "      <th>Gray</th>\n",
       "      <th>Green</th>\n",
       "      <th>Maroon</th>\n",
       "      <th>Orange</th>\n",
       "      <th>Red</th>\n",
       "      <th>Tan</th>\n",
       "      <th>Taupe</th>\n",
       "      <th>White</th>\n",
       "    </tr>\n",
       "    <tr>\n",
       "      <th>car_class</th>\n",
       "      <th></th>\n",
       "      <th></th>\n",
       "      <th></th>\n",
       "      <th></th>\n",
       "      <th></th>\n",
       "      <th></th>\n",
       "      <th></th>\n",
       "      <th></th>\n",
       "      <th></th>\n",
       "      <th></th>\n",
       "      <th></th>\n",
       "      <th></th>\n",
       "      <th></th>\n",
       "      <th></th>\n",
       "    </tr>\n",
       "  </thead>\n",
       "  <tbody>\n",
       "    <tr>\n",
       "      <th>CUV</th>\n",
       "      <td>65.641569</td>\n",
       "      <td>0.212089</td>\n",
       "      <td>4.793213</td>\n",
       "      <td>0.254507</td>\n",
       "      <td>0.127253</td>\n",
       "      <td>3.181336</td>\n",
       "      <td>11.092259</td>\n",
       "      <td>0.000000</td>\n",
       "      <td>0.084836</td>\n",
       "      <td>0.042418</td>\n",
       "      <td>1.739130</td>\n",
       "      <td>11.876988</td>\n",
       "      <td>0.254507</td>\n",
       "      <td>0.657476</td>\n",
       "    </tr>\n",
       "    <tr>\n",
       "      <th>Car</th>\n",
       "      <td>65.256346</td>\n",
       "      <td>0.099552</td>\n",
       "      <td>2.239920</td>\n",
       "      <td>0.248880</td>\n",
       "      <td>0.000000</td>\n",
       "      <td>2.538576</td>\n",
       "      <td>15.231458</td>\n",
       "      <td>0.049776</td>\n",
       "      <td>0.000000</td>\n",
       "      <td>0.049776</td>\n",
       "      <td>2.090592</td>\n",
       "      <td>11.697362</td>\n",
       "      <td>0.149328</td>\n",
       "      <td>0.298656</td>\n",
       "    </tr>\n",
       "    <tr>\n",
       "      <th>Pickup</th>\n",
       "      <td>66.462481</td>\n",
       "      <td>0.153139</td>\n",
       "      <td>1.684533</td>\n",
       "      <td>0.000000</td>\n",
       "      <td>0.000000</td>\n",
       "      <td>0.153139</td>\n",
       "      <td>28.943338</td>\n",
       "      <td>0.000000</td>\n",
       "      <td>0.000000</td>\n",
       "      <td>0.000000</td>\n",
       "      <td>0.000000</td>\n",
       "      <td>2.603369</td>\n",
       "      <td>0.000000</td>\n",
       "      <td>0.000000</td>\n",
       "    </tr>\n",
       "    <tr>\n",
       "      <th>SUV</th>\n",
       "      <td>67.796610</td>\n",
       "      <td>0.363196</td>\n",
       "      <td>5.326877</td>\n",
       "      <td>0.242131</td>\n",
       "      <td>0.121065</td>\n",
       "      <td>1.937046</td>\n",
       "      <td>9.443099</td>\n",
       "      <td>0.000000</td>\n",
       "      <td>0.000000</td>\n",
       "      <td>0.000000</td>\n",
       "      <td>0.605327</td>\n",
       "      <td>13.075061</td>\n",
       "      <td>0.726392</td>\n",
       "      <td>0.363196</td>\n",
       "    </tr>\n",
       "    <tr>\n",
       "      <th>Sport Car</th>\n",
       "      <td>72.820513</td>\n",
       "      <td>0.000000</td>\n",
       "      <td>4.102564</td>\n",
       "      <td>0.000000</td>\n",
       "      <td>0.000000</td>\n",
       "      <td>2.051282</td>\n",
       "      <td>2.564103</td>\n",
       "      <td>0.512821</td>\n",
       "      <td>0.000000</td>\n",
       "      <td>0.000000</td>\n",
       "      <td>8.717949</td>\n",
       "      <td>5.128205</td>\n",
       "      <td>0.512821</td>\n",
       "      <td>3.589744</td>\n",
       "    </tr>\n",
       "  </tbody>\n",
       "</table>\n",
       "</div>"
      ],
      "text/plain": [
       "interior_color      Black      Blue     Brown  Burgundy  Champagne     Cream  \\\n",
       "car_class                                                                      \n",
       "CUV             65.641569  0.212089  4.793213  0.254507   0.127253  3.181336   \n",
       "Car             65.256346  0.099552  2.239920  0.248880   0.000000  2.538576   \n",
       "Pickup          66.462481  0.153139  1.684533  0.000000   0.000000  0.153139   \n",
       "SUV             67.796610  0.363196  5.326877  0.242131   0.121065  1.937046   \n",
       "Sport Car       72.820513  0.000000  4.102564  0.000000   0.000000  2.051282   \n",
       "\n",
       "interior_color       Gray     Green    Maroon    Orange       Red        Tan  \\\n",
       "car_class                                                                      \n",
       "CUV             11.092259  0.000000  0.084836  0.042418  1.739130  11.876988   \n",
       "Car             15.231458  0.049776  0.000000  0.049776  2.090592  11.697362   \n",
       "Pickup          28.943338  0.000000  0.000000  0.000000  0.000000   2.603369   \n",
       "SUV              9.443099  0.000000  0.000000  0.000000  0.605327  13.075061   \n",
       "Sport Car        2.564103  0.512821  0.000000  0.000000  8.717949   5.128205   \n",
       "\n",
       "interior_color     Taupe     White  \n",
       "car_class                           \n",
       "CUV             0.254507  0.657476  \n",
       "Car             0.149328  0.298656  \n",
       "Pickup          0.000000  0.000000  \n",
       "SUV             0.726392  0.363196  \n",
       "Sport Car       0.512821  3.589744  "
      ]
     },
     "execution_count": 70,
     "metadata": {},
     "output_type": "execute_result"
    }
   ],
   "source": [
    "# for non-quantative value, the percentage of different one is calculated\n",
    "total_cars_per_class = data['car_class'].value_counts()\n",
    "\n",
    "# for damage\n",
    "damage_counts = data.groupby(['car_class', 'Accident / Damage']).size().unstack(fill_value=0)\n",
    "damage_percentage = (damage_counts.T / total_cars_per_class).T * 100\n",
    "\n",
    "\n",
    "# for fuel\n",
    "fuel_counts=data.groupby(['car_class', 'fuel']).size().unstack(fill_value=0)\n",
    "fuel_percentage = (fuel_counts.T / total_cars_per_class).T * 100\n",
    "\n",
    "#for drive type\n",
    "drive_type_counts=data.groupby(['car_class', 'Drive type']).size().unstack(fill_value=0)\n",
    "drive_type_percentage = (drive_type_counts.T / total_cars_per_class).T * 100\n",
    "\n",
    "#for exterior_color\n",
    "exterior_color_counts=data.groupby(['car_class', 'exterior_color']).size().unstack(fill_value=0)\n",
    "exterior_color_percentage = (exterior_color_counts.T / total_cars_per_class).T * 100\n",
    "\n",
    "#for interior_color\n",
    "interior_color_counts=data.groupby(['car_class', 'interior_color']).size().unstack(fill_value=0)\n",
    "interior_color_percentage = (interior_color_counts.T / total_cars_per_class).T * 100\n",
    "\n",
    "#interior_color_percentage.head()\n",
    "#exterior_color_percentage.head()\n",
    "#drive_type_percentage.head()\n",
    "#damage_percentage.head()\n",
    "#fuel_percentage.head()\n"
   ]
  },
  {
   "cell_type": "code",
   "execution_count": null,
   "id": "c5143d90-5e72-46b9-a6d4-77a8505819f6",
   "metadata": {},
   "outputs": [],
   "source": []
  },
  {
   "cell_type": "code",
   "execution_count": null,
   "id": "eb23ee31-efef-4eda-bb8b-f8b1f4711ac8",
   "metadata": {},
   "outputs": [],
   "source": []
  }
 ],
 "metadata": {
  "kernelspec": {
   "display_name": "Python 3 (ipykernel)",
   "language": "python",
   "name": "python3"
  },
  "language_info": {
   "codemirror_mode": {
    "name": "ipython",
    "version": 3
   },
   "file_extension": ".py",
   "mimetype": "text/x-python",
   "name": "python",
   "nbconvert_exporter": "python",
   "pygments_lexer": "ipython3",
   "version": "3.11.5"
  }
 },
 "nbformat": 4,
 "nbformat_minor": 5
}
